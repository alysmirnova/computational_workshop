{
 "cells": [
  {
   "cell_type": "markdown",
   "id": "d81827f7",
   "metadata": {},
   "source": [
    "## Метод Монте-Карло ("
   ]
  },
  {
   "cell_type": "code",
   "execution_count": 3,
   "id": "3b68aa3c",
   "metadata": {},
   "outputs": [],
   "source": [
    "import numpy as np\n",
    "import pandas as pd\n",
    "from math import pi, cos"
   ]
  },
  {
   "cell_type": "code",
   "execution_count": 4,
   "id": "6b2ca9b8",
   "metadata": {},
   "outputs": [],
   "source": [
    "a = 0\n",
    "b = pi/2\n",
    "\n",
    "def g(x):\n",
    "    return cos(x)\n",
    "\n",
    "def p(x):\n",
    "    return 4/pi-(8*x)/pi**2"
   ]
  },
  {
   "cell_type": "code",
   "execution_count": 5,
   "id": "6dcc7425",
   "metadata": {},
   "outputs": [],
   "source": [
    "def monte_carlo(N, d):\n",
    "    X = []\n",
    "    if d == \"uniform\":\n",
    "        X = np.random.uniform(a,b,N)\n",
    "        return ((b-a)/N) * np.sum(np.array([g(x) for x in X]))\n",
    "    \n",
    "    if d == \"linear\":\n",
    "        while (len(X) < N):\n",
    "            points = np.random.uniform(0,1,2)\n",
    "            x0, y0= a + points[0] * (b-a), points[1]*(4/pi)\n",
    "            if (0 <= y0 <= p(x0)):\n",
    "                X.append(x0)\n",
    "        X = np.array(X)\n",
    "        return (1/N)*np.sum(np.array([g(x)/p(x) for x in X]))\n",
    "    \n",
    "    k=0\n",
    "    X = np.array([(np.random.uniform(a,b), np.random.uniform(0, 1)) for i in range(N)])\n",
    "    for i in range(N):\n",
    "        if X[i,1] <= g(X[i,0]):\n",
    "            k+=1\n",
    "    return (k/N) * (pi/2)"
   ]
  },
  {
   "cell_type": "code",
   "execution_count": 11,
   "id": "b7c3872d",
   "metadata": {},
   "outputs": [
    {
     "data": {
      "text/html": [
       "<div>\n",
       "<style scoped>\n",
       "    .dataframe tbody tr th:only-of-type {\n",
       "        vertical-align: middle;\n",
       "    }\n",
       "\n",
       "    .dataframe tbody tr th {\n",
       "        vertical-align: top;\n",
       "    }\n",
       "\n",
       "    .dataframe thead th {\n",
       "        text-align: right;\n",
       "    }\n",
       "</style>\n",
       "<table border=\"1\" class=\"dataframe\">\n",
       "  <thead>\n",
       "    <tr style=\"text-align: right;\">\n",
       "      <th></th>\n",
       "      <th>N</th>\n",
       "      <th>Равномерная плотность</th>\n",
       "      <th>Линейная плотность</th>\n",
       "      <th>Разность площадей</th>\n",
       "    </tr>\n",
       "  </thead>\n",
       "  <tbody>\n",
       "    <tr>\n",
       "      <th>0</th>\n",
       "      <td>10.0</td>\n",
       "      <td>0.117639</td>\n",
       "      <td>0.051653</td>\n",
       "      <td>0.006753</td>\n",
       "    </tr>\n",
       "    <tr>\n",
       "      <th>1</th>\n",
       "      <td>100.0</td>\n",
       "      <td>0.036975</td>\n",
       "      <td>0.008761</td>\n",
       "      <td>0.000011</td>\n",
       "    </tr>\n",
       "    <tr>\n",
       "      <th>2</th>\n",
       "      <td>1000.0</td>\n",
       "      <td>0.004597</td>\n",
       "      <td>0.000603</td>\n",
       "      <td>0.003449</td>\n",
       "    </tr>\n",
       "    <tr>\n",
       "      <th>3</th>\n",
       "      <td>10000.0</td>\n",
       "      <td>0.000283</td>\n",
       "      <td>0.001203</td>\n",
       "      <td>0.009451</td>\n",
       "    </tr>\n",
       "    <tr>\n",
       "      <th>4</th>\n",
       "      <td>100000.0</td>\n",
       "      <td>0.002261</td>\n",
       "      <td>0.000042</td>\n",
       "      <td>0.000352</td>\n",
       "    </tr>\n",
       "    <tr>\n",
       "      <th>5</th>\n",
       "      <td>1000000.0</td>\n",
       "      <td>0.000295</td>\n",
       "      <td>0.000107</td>\n",
       "      <td>0.000328</td>\n",
       "    </tr>\n",
       "  </tbody>\n",
       "</table>\n",
       "</div>"
      ],
      "text/plain": [
       "           N  Равномерная плотность  Линейная плотность  Разность площадей\n",
       "0       10.0               0.117639            0.051653           0.006753\n",
       "1      100.0               0.036975            0.008761           0.000011\n",
       "2     1000.0               0.004597            0.000603           0.003449\n",
       "3    10000.0               0.000283            0.001203           0.009451\n",
       "4   100000.0               0.002261            0.000042           0.000352\n",
       "5  1000000.0               0.000295            0.000107           0.000328"
      ]
     },
     "execution_count": 11,
     "metadata": {},
     "output_type": "execute_result"
    }
   ],
   "source": [
    "df = pd.DataFrame(columns = [\"N\", \"Равномерная плотность\", \"Линейная плотность\", \"Разность площадей\"])\n",
    "for i in range(1, 7):\n",
    "    row = [10**(i), abs(1-monte_carlo(10**(i), \"uniform\")), \n",
    "           abs(1-monte_carlo(10**(i),\"linear\")), abs(1-monte_carlo(10**(i)))]\n",
    "    df = df.append(pd.Series(row,index=df.columns), True)\n",
    "df"
   ]
  }
 ],
 "metadata": {
  "kernelspec": {
   "display_name": "Python 3 (ipykernel)",
   "language": "python",
   "name": "python3"
  },
  "language_info": {
   "codemirror_mode": {
    "name": "ipython",
    "version": 3
   },
   "file_extension": ".py",
   "mimetype": "text/x-python",
   "name": "python",
   "nbconvert_exporter": "python",
   "pygments_lexer": "ipython3",
   "version": "3.10.0"
  }
 },
 "nbformat": 4,
 "nbformat_minor": 5
}
