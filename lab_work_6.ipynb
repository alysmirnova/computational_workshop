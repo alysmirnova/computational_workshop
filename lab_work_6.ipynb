{
 "cells": [
  {
   "cell_type": "markdown",
   "id": "305473d2",
   "metadata": {},
   "source": [
    "## Полная проблема собственных значений (метод Якоби)."
   ]
  },
  {
   "cell_type": "code",
   "execution_count": 11,
   "id": "a7f24d5d",
   "metadata": {},
   "outputs": [],
   "source": [
    "from numpy import eye, zeros, sign, diag, sort\n",
    "from math import sqrt\n",
    "from scipy.linalg import hilbert, eig\n",
    "from numpy.linalg import norm\n",
    "from prettytable import PrettyTable"
   ]
  },
  {
   "cell_type": "code",
   "execution_count": 12,
   "id": "302bc676",
   "metadata": {},
   "outputs": [],
   "source": [
    "def max_element(A):\n",
    "    max_i, max_j = 0, 1\n",
    "    max_elem = abs(A[max_i, max_j])\n",
    "    n = A.shape[0]\n",
    "    for i in range(n):\n",
    "        for j in range(n):\n",
    "            if i != j:\n",
    "                if abs(A[i,j]) > max_elem:\n",
    "                    max_elem = abs(A[i, j])\n",
    "                    max_i, max_j = i, j\n",
    "    return max_i, max_j "
   ]
  },
  {
   "cell_type": "code",
   "execution_count": 13,
   "id": "5c8ad315",
   "metadata": {},
   "outputs": [],
   "source": [
    "def find_cs(A, i, j):\n",
    "    x = -2 * A[i,j]\n",
    "    y = A[i,i] - A[j,j]\n",
    "    if y == 0:\n",
    "        c = 1/sqrt(2)\n",
    "        s = c\n",
    "    else:\n",
    "        c = sqrt(0.5 * (1 + abs(y) / sqrt(x ** 2 + y ** 2)))\n",
    "        s = sign(x * y) * abs(x) / (2 * c * sqrt(x ** 2 + y ** 2))\n",
    "    return c, s"
   ]
  },
  {
   "cell_type": "code",
   "execution_count": 14,
   "id": "dd4f5d52",
   "metadata": {},
   "outputs": [],
   "source": [
    "def find_T(n, i, j, c, s):\n",
    "    T = eye(n)\n",
    "    T[i, i] = c\n",
    "    T[i, j] = -s\n",
    "    T[j, i] = s\n",
    "    T[j, j] = c\n",
    "    return T"
   ]
  },
  {
   "cell_type": "code",
   "execution_count": 15,
   "id": "575237e0",
   "metadata": {},
   "outputs": [],
   "source": [
    "def jacobi_method(A, eps, strategy=\"max\"):\n",
    "    iters = 0\n",
    "    n = A.shape[0]\n",
    "    i, j = 0, 0\n",
    "    while True: \n",
    "        R_i = []\n",
    "        for k in range(n):\n",
    "            R_i.append(sum(abs(A[k])) - abs(A[k,k]))\n",
    "            \n",
    "        if len([r for r in R_i if r < eps]) > 0 or iters >= 1000:\n",
    "            return diag(A), iters \n",
    "            \n",
    "        if strategy == \"max\":\n",
    "            i, j = max_element(A)\n",
    "            \n",
    "        if strategy == \"cyclic\":\n",
    "            if j+1 != i and j+1 != n:\n",
    "                j += 1\n",
    "            elif j+1 == i:\n",
    "                j += 2\n",
    "            else:\n",
    "                i += 1\n",
    "                j = 0\n",
    "        \n",
    "        if i == n-1 and j == n:\n",
    "            i = 0\n",
    "            j = 1\n",
    "        \n",
    "        c, s = find_cs(A, i, j)\n",
    "        T = find_T(A.shape[0], i, j, c, s)\n",
    "        A = T @ A @ T.transpose()\n",
    "        iters += 1"
   ]
  },
  {
   "cell_type": "code",
   "execution_count": 16,
   "id": "41684c56",
   "metadata": {},
   "outputs": [],
   "source": [
    "matrices = []\n",
    "\n",
    "#матрица Гильберта 3х3\n",
    "matrices.append(hilbert(3))\n",
    "\n",
    "#матрица Гильберта 5х5\n",
    "matrices.append(hilbert(5))\n",
    "\n",
    "#матрица Гильберта 10х10\n",
    "matrices.append(hilbert(10))"
   ]
  },
  {
   "cell_type": "code",
   "execution_count": 17,
   "id": "6b5f53e2",
   "metadata": {},
   "outputs": [
    {
     "name": "stdout",
     "output_type": "stream",
     "text": [
      "+--------+------------------------+----------+------------------------+-----------+\n",
      "|  eps   |      1 стратегия       | итерации |      2 стратегия       | итерации  |\n",
      "+--------+------------------------+----------+------------------------+-----------+\n",
      "| 1e-16  | 4.475527734957445e-16  |    8     | 5.551115123125783e-16  |     8     |\n",
      "| 1e-14  | 4.475460496224462e-16  |    7     | 5.551115123125783e-16  |     8     |\n",
      "| 1e-12  | 4.475460496224462e-16  |    7     | 5.551142228113921e-16  |     7     |\n",
      "| 1e-10  | 4.475460496224462e-16  |    7     | 5.551142228113921e-16  |     7     |\n",
      "| 1e-08  | 2.8468131512045267e-12 |    6     | 4.2988341510058943e-07 |     6     |\n",
      "| 1e-06  | 2.8468131512045267e-12 |    6     | 4.298829110036661e-07  |     5     |\n",
      "| 0.0001 | 3.070874197317984e-07  |    5     | 4.298829110036661e-07  |     5     |\n",
      "|  0.01  |  0.000198194506945042  |    4     |  0.08046176877363061   |     3     |\n",
      "+--------+------------------------+----------+------------------------+-----------+\n",
      "+--------+-----------------------+----------+------------------------+-----------+\n",
      "|  eps   |      1 стратегия      | итерации |      2 стратегия       | итерации  |\n",
      "+--------+-----------------------+----------+------------------------+-----------+\n",
      "| 1e-16  | 6.759410115231075e-16 |    33    | 4.495793824015747e-16  |     39    |\n",
      "| 1e-14  | 6.759410115231075e-16 |    32    | 4.495794005793933e-16  |     36    |\n",
      "| 1e-12  | 7.518697740494334e-16 |    28    | 4.495794005793933e-16  |     36    |\n",
      "| 1e-10  | 3.887571838796493e-11 |    27    | 3.7019096939362873e-11 |     35    |\n",
      "| 1e-08  | 3.887571838796493e-11 |    27    | 1.535080961743658e-06  |     29    |\n",
      "| 1e-06  | 1.201369271949889e-07 |    22    | 1.2474187375537542e-05 |     24    |\n",
      "| 0.0001 | 0.0001008748131615655 |    17    | 1.2474187375537542e-05 |     24    |\n",
      "|  0.01  |  0.00795691318975098  |    8     |  0.05259510875195455   |     7     |\n",
      "+--------+-----------------------+----------+------------------------+-----------+\n",
      "+--------+------------------------+----------+------------------------+-----------+\n",
      "|  eps   |      1 стратегия       | итерации |      2 стратегия       | итерации  |\n",
      "+--------+------------------------+----------+------------------------+-----------+\n",
      "| 1e-16  | 1.1348161780212299e-15 |   165    | 3.4197162780134704e-10 |    200    |\n",
      "| 1e-14  | 1.1348161736949439e-15 |   151    | 3.4197489812209096e-10 |    189    |\n",
      "| 1e-12  | 1.1918881039727968e-09 |   123    | 3.4197489812209096e-10 |    189    |\n",
      "| 1e-10  | 1.1918881039727968e-09 |   123    | 3.4197489812209096e-10 |    189    |\n",
      "| 1e-08  | 1.1882486743816308e-08 |   108    | 2.628624900575396e-06  |    159    |\n",
      "| 1e-06  | 3.3121112994073115e-06 |    82    | 4.176620927163792e-06  |    126    |\n",
      "| 0.0001 | 0.00010928103686220922 |    57    | 0.0005943662639787786  |     96    |\n",
      "|  0.01  |  0.03245699429665957   |    27    |  0.022556180880062355  |     32    |\n",
      "+--------+------------------------+----------+------------------------+-----------+\n"
     ]
    }
   ],
   "source": [
    "for matrix in matrices:\n",
    "    results = PrettyTable()\n",
    "    results.field_names = [\"eps\", \"1 стратегия\", \"итерации\", \"2 стратегия\", \"итерации \"]\n",
    "\n",
    "    \n",
    "    for eps in range(-16, -1, 2):\n",
    "        eps = 10**eps\n",
    "        results.add_row([eps, norm(sort(jacobi_method(matrix, eps)[0])-sort(eig(matrix)[0])), jacobi_method(matrix, eps)[1],\n",
    "                        norm(sort(jacobi_method(matrix, eps, \"cyclic\")[0])-sort(eig(matrix)[0])), \n",
    "                         jacobi_method(matrix, eps, \"cyclic\")[1]])\n",
    "        \n",
    "    print(results)"
   ]
  }
 ],
 "metadata": {
  "kernelspec": {
   "display_name": "Python 3 (ipykernel)",
   "language": "python",
   "name": "python3"
  },
  "language_info": {
   "codemirror_mode": {
    "name": "ipython",
    "version": 3
   },
   "file_extension": ".py",
   "mimetype": "text/x-python",
   "name": "python",
   "nbconvert_exporter": "python",
   "pygments_lexer": "ipython3",
   "version": "3.10.0"
  }
 },
 "nbformat": 4,
 "nbformat_minor": 5
}
