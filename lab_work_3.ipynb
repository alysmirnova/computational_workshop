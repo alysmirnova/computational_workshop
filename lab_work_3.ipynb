{
 "cells": [
  {
   "cell_type": "markdown",
   "id": "ca3cb02a",
   "metadata": {},
   "source": [
    "## Решение СЛАУ методом QR-разложения."
   ]
  },
  {
   "cell_type": "code",
   "execution_count": 37,
   "id": "15481ab9",
   "metadata": {},
   "outputs": [],
   "source": [
    "from numpy.linalg import solve, cond, norm\n",
    "from prettytable import PrettyTable\n",
    "from numpy import array, column_stack, matrix, ones, zeros, dot"
   ]
  },
  {
   "cell_type": "markdown",
   "id": "6009c18c",
   "metadata": {},
   "source": [
    "Метод вращений"
   ]
  },
  {
   "cell_type": "code",
   "execution_count": 27,
   "id": "54e6d489",
   "metadata": {},
   "outputs": [],
   "source": [
    "def rotation_method(A, b):\n",
    "    ab = column_stack([A, b])\n",
    "    n = ab.shape[0]\n",
    "    for i in range(n-1):\n",
    "        for j in range(i + 1, n):\n",
    "            c = ab[i, i] / (ab[i, i]**2 + ab[j, i]**2) ** 0.5\n",
    "            s = ab[j, i] / (ab[i, i]**2 + ab[j, i]**2) ** 0.5\n",
    "            temp1 = ab[i, :] * c + ab[j, :] * s\n",
    "            temp2 = ab[i, :] * -s + ab[j, :] * c\n",
    "            ab[i, :] = temp1\n",
    "            ab[j, :] = temp2\n",
    "\n",
    "    x = matrix([0.0 for i in range(n)]).transpose()\n",
    "    for i in range(n - 1, -1, -1):\n",
    "        x[i, 0] = (ab[i, -1] - ab[i, i:n] * x[i:n, 0]) / ab[i, i]\n",
    "\n",
    "    return x"
   ]
  },
  {
   "cell_type": "markdown",
   "id": "14100b1f",
   "metadata": {},
   "source": [
    "Метод квадратного корня"
   ]
  },
  {
   "cell_type": "code",
   "execution_count": 39,
   "id": "acaeb2cc",
   "metadata": {},
   "outputs": [],
   "source": [
    "class SquareRootMethod:\n",
    "    def __init__(self, A, b):\n",
    "        self.n = A.shape[0]\n",
    "        self.A = A\n",
    "        self.b = b\n",
    "        self.L = zeros((self.n, self.n))\n",
    "\n",
    "    def __sum_one(self, i_first):\n",
    "        s = 0\n",
    "        for i in range(i_first):\n",
    "            s += self.L[i_first][i]**2\n",
    "        return s\n",
    "\n",
    "    def __L_ii(self, i):\n",
    "        self.L[i][i] = sqrt(self.A[i][i] - self.__sum_one(i))\n",
    "\n",
    "    def __sum_two(self, i_first, j_first):\n",
    "        s = 0\n",
    "        for i in range(i_first):\n",
    "            s += self.L[i_first][i]*self.L[j_first][i]\n",
    "        return s\n",
    "\n",
    "    def __L_ij(self, i_first, n):\n",
    "        for i in range(i_first+1, self.n):\n",
    "            self.L[i][i_first] = (self.A[i][i_first] - self.__sum_two(i_first, i))/self.L[i_first][i_first]\n",
    "\n",
    "    def matrix_L(self):\n",
    "        for i in range(self.n):\n",
    "            self.__L_ii(i)\n",
    "            self.__L_ij(i, self.n)\n",
    "        return self.L\n",
    "    \n",
    "    def solve_x(self):\n",
    "        self.matrix_L()\n",
    "        y = solve(self.L, self.b)\n",
    "        x = solve(self.L.T, y)\n",
    "        return x"
   ]
  },
  {
   "cell_type": "code",
   "execution_count": 40,
   "id": "7c3eb10d",
   "metadata": {},
   "outputs": [],
   "source": [
    "def hilbert_matrix(n: int):\n",
    "    matrix = zeros((n, n))\n",
    "    for i in range(1, n + 1):\n",
    "        for j in range(1, n + 1):\n",
    "            matrix[i - 1][j - 1] = 1 / (i + j - 1)\n",
    "    return matrix"
   ]
  },
  {
   "cell_type": "code",
   "execution_count": 45,
   "id": "4e233ce2",
   "metadata": {},
   "outputs": [
    {
     "name": "stdout",
     "output_type": "stream",
     "text": [
      "Матрица Гильберта 3 x 3\n",
      "Число обусловленности = 524.0567775860644\n",
      "Метод вращений =  2.8398063987129677e-14\n",
      "Метод квадратного корня =  6.157485465446498e-15\n",
      "\n",
      "Матрица Гильберта 6 x 6\n",
      "Число обусловленности = 14951058.642466014\n",
      "Метод вращений =  3.482286278236852e-09\n",
      "Метод квадратного корня =  5.998650300168924e-10\n",
      "\n",
      "Матрица Гильберта 12 x 12\n",
      "Число обусловленности = 1.7587184385400606e+16\n",
      "Метод вращений =  1.5499142010568772\n",
      "Метод квадратного корня =  0.8972942714050014\n",
      "\n"
     ]
    }
   ],
   "source": [
    "for size in [3, 6, 12]:\n",
    "    x = ones(size)\n",
    "    A = hilbert_matrix(size)\n",
    "    b = dot(A, x)\n",
    "    print('Матрица Гильберта', size, 'x', size)\n",
    "    print('Число обусловленности =', cond(A))\n",
    "    print('Метод вращений = ', norm(x - rotation_method(A, b)))\n",
    "    print('Метод квадратного корня = ', norm(x - SquareRootMethod(A, b).solve_x()))\n",
    "    print()"
   ]
  }
 ],
 "metadata": {
  "kernelspec": {
   "display_name": "Python 3 (ipykernel)",
   "language": "python",
   "name": "python3"
  },
  "language_info": {
   "codemirror_mode": {
    "name": "ipython",
    "version": 3
   },
   "file_extension": ".py",
   "mimetype": "text/x-python",
   "name": "python",
   "nbconvert_exporter": "python",
   "pygments_lexer": "ipython3",
   "version": "3.10.0"
  }
 },
 "nbformat": 4,
 "nbformat_minor": 5
}
